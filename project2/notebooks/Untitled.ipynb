{
 "cells": [
  {
   "cell_type": "code",
   "execution_count": 1,
   "metadata": {},
   "outputs": [],
   "source": [
    "import numpy as np\n",
    "import pandas as pd\n",
    "import matplotlib.pyplot as plt\n",
    "import os\n",
    "import sys\n",
    "sys.path.insert(0, os.path.join(\"../story_cloze/\"))"
   ]
  },
  {
   "cell_type": "code",
   "execution_count": 2,
   "metadata": {},
   "outputs": [],
   "source": [
    "train_stories = pd.read_csv(\"../data/stories.train.csv\")"
   ]
  },
  {
   "cell_type": "code",
   "execution_count": 3,
   "metadata": {},
   "outputs": [
    {
     "data": {
      "text/html": [
       "<div>\n",
       "<style scoped>\n",
       "    .dataframe tbody tr th:only-of-type {\n",
       "        vertical-align: middle;\n",
       "    }\n",
       "\n",
       "    .dataframe tbody tr th {\n",
       "        vertical-align: top;\n",
       "    }\n",
       "\n",
       "    .dataframe thead th {\n",
       "        text-align: right;\n",
       "    }\n",
       "</style>\n",
       "<table border=\"1\" class=\"dataframe\">\n",
       "  <thead>\n",
       "    <tr style=\"text-align: right;\">\n",
       "      <th></th>\n",
       "      <th>storyid</th>\n",
       "      <th>storytitle</th>\n",
       "      <th>sentence1</th>\n",
       "      <th>sentence2</th>\n",
       "      <th>sentence3</th>\n",
       "      <th>sentence4</th>\n",
       "      <th>sentence5</th>\n",
       "    </tr>\n",
       "  </thead>\n",
       "  <tbody>\n",
       "    <tr>\n",
       "      <th>0</th>\n",
       "      <td>8eb647c6-cdfa-416a-b4a2-09b24f44dcc5</td>\n",
       "      <td>Kelly Made Pizza</td>\n",
       "      <td>Kelly found her grandmother's pizza recipe in ...</td>\n",
       "      <td>Kelly reminisced about how much she loved her ...</td>\n",
       "      <td>Kelly decided that she was going to try to mak...</td>\n",
       "      <td>Kelly studied the recipe and gathered everythi...</td>\n",
       "      <td>Kelly successfully made a pizza from her grand...</td>\n",
       "    </tr>\n",
       "    <tr>\n",
       "      <th>1</th>\n",
       "      <td>e0cab669-993a-41be-978f-97795be07197</td>\n",
       "      <td>Embarrassing Hair</td>\n",
       "      <td>Leo wore a toupee and was anxious about it.</td>\n",
       "      <td>He decided to go out for a short walk.</td>\n",
       "      <td>It was a very windy day, but he wasn't too con...</td>\n",
       "      <td>Suddenly, a strong wind came through and took ...</td>\n",
       "      <td>His dog leaped and caught it, and he quickly r...</td>\n",
       "    </tr>\n",
       "    <tr>\n",
       "      <th>2</th>\n",
       "      <td>ad2236b7-de48-45a2-838b-25f166bdee90</td>\n",
       "      <td>Grill Master</td>\n",
       "      <td>Jimmy was a master with his grill.</td>\n",
       "      <td>He spent every weekend getting better with his...</td>\n",
       "      <td>One day he was offered a TV show about grillin...</td>\n",
       "      <td>Jimmy accepted the job in an instant.</td>\n",
       "      <td>He quit his day job and spent all his time gri...</td>\n",
       "    </tr>\n",
       "    <tr>\n",
       "      <th>3</th>\n",
       "      <td>500fe4a4-f7c4-4f46-96ee-e010467b069f</td>\n",
       "      <td>Ice Skating</td>\n",
       "      <td>Tom and Beth were dating.</td>\n",
       "      <td>Tom wanted to go on a fun date.</td>\n",
       "      <td>Tom suggested ice skating.</td>\n",
       "      <td>His date was excited and they went ice skating.</td>\n",
       "      <td>Tom and Beth grew closer during their ice skat...</td>\n",
       "    </tr>\n",
       "    <tr>\n",
       "      <th>4</th>\n",
       "      <td>522f2bc3-3bb1-4f68-8e99-5b2abd016854</td>\n",
       "      <td>Bad friend 1</td>\n",
       "      <td>I had a friend that I didn't know well but let...</td>\n",
       "      <td>She paid rent then asked for some of it back.</td>\n",
       "      <td>She drinks my juice and eats my food.</td>\n",
       "      <td>She also makes a huge mess and is very sloppy.</td>\n",
       "      <td>She got kicked out in two weeks.</td>\n",
       "    </tr>\n",
       "  </tbody>\n",
       "</table>\n",
       "</div>"
      ],
      "text/plain": [
       "                                storyid         storytitle  \\\n",
       "0  8eb647c6-cdfa-416a-b4a2-09b24f44dcc5   Kelly Made Pizza   \n",
       "1  e0cab669-993a-41be-978f-97795be07197  Embarrassing Hair   \n",
       "2  ad2236b7-de48-45a2-838b-25f166bdee90       Grill Master   \n",
       "3  500fe4a4-f7c4-4f46-96ee-e010467b069f        Ice Skating   \n",
       "4  522f2bc3-3bb1-4f68-8e99-5b2abd016854       Bad friend 1   \n",
       "\n",
       "                                           sentence1  \\\n",
       "0  Kelly found her grandmother's pizza recipe in ...   \n",
       "1        Leo wore a toupee and was anxious about it.   \n",
       "2                 Jimmy was a master with his grill.   \n",
       "3                          Tom and Beth were dating.   \n",
       "4  I had a friend that I didn't know well but let...   \n",
       "\n",
       "                                           sentence2  \\\n",
       "0  Kelly reminisced about how much she loved her ...   \n",
       "1             He decided to go out for a short walk.   \n",
       "2  He spent every weekend getting better with his...   \n",
       "3                    Tom wanted to go on a fun date.   \n",
       "4      She paid rent then asked for some of it back.   \n",
       "\n",
       "                                           sentence3  \\\n",
       "0  Kelly decided that she was going to try to mak...   \n",
       "1  It was a very windy day, but he wasn't too con...   \n",
       "2  One day he was offered a TV show about grillin...   \n",
       "3                         Tom suggested ice skating.   \n",
       "4              She drinks my juice and eats my food.   \n",
       "\n",
       "                                           sentence4  \\\n",
       "0  Kelly studied the recipe and gathered everythi...   \n",
       "1  Suddenly, a strong wind came through and took ...   \n",
       "2              Jimmy accepted the job in an instant.   \n",
       "3    His date was excited and they went ice skating.   \n",
       "4     She also makes a huge mess and is very sloppy.   \n",
       "\n",
       "                                           sentence5  \n",
       "0  Kelly successfully made a pizza from her grand...  \n",
       "1  His dog leaped and caught it, and he quickly r...  \n",
       "2  He quit his day job and spent all his time gri...  \n",
       "3  Tom and Beth grew closer during their ice skat...  \n",
       "4                   She got kicked out in two weeks.  "
      ]
     },
     "execution_count": 3,
     "metadata": {},
     "output_type": "execute_result"
    }
   ],
   "source": [
    "train_stories.head()"
   ]
  },
  {
   "cell_type": "code",
   "execution_count": 6,
   "metadata": {},
   "outputs": [],
   "source": [
    "train_small = train_stories.iloc[:100]\n",
    "train_small.to_csv(\"../data/stories.train.small.csv\", index=False, header=True)\n",
    "\n",
    "eval_small = eval_df.iloc[:100]\n",
    "eval_small.to_csv(\"../data/stories.eval.small.csv\", index=False, header=True)"
   ]
  },
  {
   "cell_type": "code",
   "execution_count": 4,
   "metadata": {},
   "outputs": [],
   "source": [
    "def get_num_words(sentence):\n",
    "    return len(sentence.split(\" \"))"
   ]
  },
  {
   "cell_type": "code",
   "execution_count": 5,
   "metadata": {},
   "outputs": [],
   "source": [
    "eval_df = pd.read_csv(\"../data/stories.eval.csv\")"
   ]
  },
  {
   "cell_type": "code",
   "execution_count": 6,
   "metadata": {},
   "outputs": [
    {
     "data": {
      "text/html": [
       "<div>\n",
       "<style scoped>\n",
       "    .dataframe tbody tr th:only-of-type {\n",
       "        vertical-align: middle;\n",
       "    }\n",
       "\n",
       "    .dataframe tbody tr th {\n",
       "        vertical-align: top;\n",
       "    }\n",
       "\n",
       "    .dataframe thead th {\n",
       "        text-align: right;\n",
       "    }\n",
       "</style>\n",
       "<table border=\"1\" class=\"dataframe\">\n",
       "  <thead>\n",
       "    <tr style=\"text-align: right;\">\n",
       "      <th></th>\n",
       "      <th>InputStoryid</th>\n",
       "      <th>InputSentence1</th>\n",
       "      <th>InputSentence2</th>\n",
       "      <th>InputSentence3</th>\n",
       "      <th>InputSentence4</th>\n",
       "      <th>RandomFifthSentenceQuiz1</th>\n",
       "      <th>RandomFifthSentenceQuiz2</th>\n",
       "      <th>AnswerRightEnding</th>\n",
       "    </tr>\n",
       "  </thead>\n",
       "  <tbody>\n",
       "    <tr>\n",
       "      <th>0</th>\n",
       "      <td>138d5bfb-05cc-41e3-bf2c-fa85ebad14e2</td>\n",
       "      <td>Rick grew up in a troubled household.</td>\n",
       "      <td>He never found good support in family, and tur...</td>\n",
       "      <td>It wasn't long before Rick got shot in a robbery.</td>\n",
       "      <td>The incident caused him to turn a new leaf.</td>\n",
       "      <td>He is happy now.</td>\n",
       "      <td>He joined a gang.</td>\n",
       "      <td>1</td>\n",
       "    </tr>\n",
       "    <tr>\n",
       "      <th>1</th>\n",
       "      <td>bff9f820-9605-4875-b9af-fe6f14d04256</td>\n",
       "      <td>Laverne needs to prepare something for her fri...</td>\n",
       "      <td>She decides to bake a batch of brownies.</td>\n",
       "      <td>She chooses a recipe and follows it closely.</td>\n",
       "      <td>Laverne tests one of the brownies to make sure...</td>\n",
       "      <td>The brownies are so delicious Laverne eats two...</td>\n",
       "      <td>Laverne doesn't go to her friend's party.</td>\n",
       "      <td>1</td>\n",
       "    </tr>\n",
       "    <tr>\n",
       "      <th>2</th>\n",
       "      <td>e8f628d5-9f97-40ed-8611-fc0e774673c4</td>\n",
       "      <td>Sarah had been dreaming of visiting Europe for...</td>\n",
       "      <td>She had finally saved enough for the trip.</td>\n",
       "      <td>She landed in Spain and traveled east across t...</td>\n",
       "      <td>She didn't like how different everything was.</td>\n",
       "      <td>Sarah then decided to move to Europe.</td>\n",
       "      <td>Sarah decided that she preferred her home over...</td>\n",
       "      <td>2</td>\n",
       "    </tr>\n",
       "    <tr>\n",
       "      <th>3</th>\n",
       "      <td>f5226bfe-9f26-4377-b05f-3d9568dbdec1</td>\n",
       "      <td>Gina was worried the cookie dough in the tube ...</td>\n",
       "      <td>She was very happy to find she was wrong.</td>\n",
       "      <td>The cookies from the tube were as good as from...</td>\n",
       "      <td>Gina intended to only eat 2 cookies and save t...</td>\n",
       "      <td>Gina liked the cookies so much she ate them al...</td>\n",
       "      <td>Gina gave the cookies away at her church.</td>\n",
       "      <td>1</td>\n",
       "    </tr>\n",
       "    <tr>\n",
       "      <th>4</th>\n",
       "      <td>69ac9b05-b956-402f-9fff-1f926ef9176b</td>\n",
       "      <td>It was  my final performance in marching band.</td>\n",
       "      <td>I was playing the snare drum in the band.</td>\n",
       "      <td>We played Thriller and Radar Love.</td>\n",
       "      <td>The performance was flawless.</td>\n",
       "      <td>I was very proud of my performance.</td>\n",
       "      <td>I was very ashamed of my performance.</td>\n",
       "      <td>1</td>\n",
       "    </tr>\n",
       "  </tbody>\n",
       "</table>\n",
       "</div>"
      ],
      "text/plain": [
       "                           InputStoryid  \\\n",
       "0  138d5bfb-05cc-41e3-bf2c-fa85ebad14e2   \n",
       "1  bff9f820-9605-4875-b9af-fe6f14d04256   \n",
       "2  e8f628d5-9f97-40ed-8611-fc0e774673c4   \n",
       "3  f5226bfe-9f26-4377-b05f-3d9568dbdec1   \n",
       "4  69ac9b05-b956-402f-9fff-1f926ef9176b   \n",
       "\n",
       "                                      InputSentence1  \\\n",
       "0              Rick grew up in a troubled household.   \n",
       "1  Laverne needs to prepare something for her fri...   \n",
       "2  Sarah had been dreaming of visiting Europe for...   \n",
       "3  Gina was worried the cookie dough in the tube ...   \n",
       "4     It was  my final performance in marching band.   \n",
       "\n",
       "                                      InputSentence2  \\\n",
       "0  He never found good support in family, and tur...   \n",
       "1           She decides to bake a batch of brownies.   \n",
       "2         She had finally saved enough for the trip.   \n",
       "3          She was very happy to find she was wrong.   \n",
       "4          I was playing the snare drum in the band.   \n",
       "\n",
       "                                      InputSentence3  \\\n",
       "0  It wasn't long before Rick got shot in a robbery.   \n",
       "1       She chooses a recipe and follows it closely.   \n",
       "2  She landed in Spain and traveled east across t...   \n",
       "3  The cookies from the tube were as good as from...   \n",
       "4                 We played Thriller and Radar Love.   \n",
       "\n",
       "                                      InputSentence4  \\\n",
       "0        The incident caused him to turn a new leaf.   \n",
       "1  Laverne tests one of the brownies to make sure...   \n",
       "2      She didn't like how different everything was.   \n",
       "3  Gina intended to only eat 2 cookies and save t...   \n",
       "4                      The performance was flawless.   \n",
       "\n",
       "                            RandomFifthSentenceQuiz1  \\\n",
       "0                                   He is happy now.   \n",
       "1  The brownies are so delicious Laverne eats two...   \n",
       "2              Sarah then decided to move to Europe.   \n",
       "3  Gina liked the cookies so much she ate them al...   \n",
       "4                I was very proud of my performance.   \n",
       "\n",
       "                            RandomFifthSentenceQuiz2  AnswerRightEnding  \n",
       "0                                  He joined a gang.                  1  \n",
       "1          Laverne doesn't go to her friend's party.                  1  \n",
       "2  Sarah decided that she preferred her home over...                  2  \n",
       "3          Gina gave the cookies away at her church.                  1  \n",
       "4              I was very ashamed of my performance.                  1  "
      ]
     },
     "execution_count": 6,
     "metadata": {},
     "output_type": "execute_result"
    }
   ],
   "source": [
    "eval_df.head()"
   ]
  },
  {
   "cell_type": "code",
   "execution_count": 7,
   "metadata": {},
   "outputs": [],
   "source": [
    "train_df = train_stories.drop([\"storyid\", \"storytitle\"], axis=1)\n",
    "\n",
    "del train_stories"
   ]
  },
  {
   "cell_type": "code",
   "execution_count": 8,
   "metadata": {},
   "outputs": [
    {
     "data": {
      "text/html": [
       "<div>\n",
       "<style scoped>\n",
       "    .dataframe tbody tr th:only-of-type {\n",
       "        vertical-align: middle;\n",
       "    }\n",
       "\n",
       "    .dataframe tbody tr th {\n",
       "        vertical-align: top;\n",
       "    }\n",
       "\n",
       "    .dataframe thead th {\n",
       "        text-align: right;\n",
       "    }\n",
       "</style>\n",
       "<table border=\"1\" class=\"dataframe\">\n",
       "  <thead>\n",
       "    <tr style=\"text-align: right;\">\n",
       "      <th></th>\n",
       "      <th>sentence1</th>\n",
       "      <th>sentence2</th>\n",
       "      <th>sentence3</th>\n",
       "      <th>sentence4</th>\n",
       "      <th>sentence5</th>\n",
       "    </tr>\n",
       "  </thead>\n",
       "  <tbody>\n",
       "    <tr>\n",
       "      <th>0</th>\n",
       "      <td>Kelly found her grandmother's pizza recipe in ...</td>\n",
       "      <td>Kelly reminisced about how much she loved her ...</td>\n",
       "      <td>Kelly decided that she was going to try to mak...</td>\n",
       "      <td>Kelly studied the recipe and gathered everythi...</td>\n",
       "      <td>Kelly successfully made a pizza from her grand...</td>\n",
       "    </tr>\n",
       "    <tr>\n",
       "      <th>1</th>\n",
       "      <td>Leo wore a toupee and was anxious about it.</td>\n",
       "      <td>He decided to go out for a short walk.</td>\n",
       "      <td>It was a very windy day, but he wasn't too con...</td>\n",
       "      <td>Suddenly, a strong wind came through and took ...</td>\n",
       "      <td>His dog leaped and caught it, and he quickly r...</td>\n",
       "    </tr>\n",
       "    <tr>\n",
       "      <th>2</th>\n",
       "      <td>Jimmy was a master with his grill.</td>\n",
       "      <td>He spent every weekend getting better with his...</td>\n",
       "      <td>One day he was offered a TV show about grillin...</td>\n",
       "      <td>Jimmy accepted the job in an instant.</td>\n",
       "      <td>He quit his day job and spent all his time gri...</td>\n",
       "    </tr>\n",
       "    <tr>\n",
       "      <th>3</th>\n",
       "      <td>Tom and Beth were dating.</td>\n",
       "      <td>Tom wanted to go on a fun date.</td>\n",
       "      <td>Tom suggested ice skating.</td>\n",
       "      <td>His date was excited and they went ice skating.</td>\n",
       "      <td>Tom and Beth grew closer during their ice skat...</td>\n",
       "    </tr>\n",
       "    <tr>\n",
       "      <th>4</th>\n",
       "      <td>I had a friend that I didn't know well but let...</td>\n",
       "      <td>She paid rent then asked for some of it back.</td>\n",
       "      <td>She drinks my juice and eats my food.</td>\n",
       "      <td>She also makes a huge mess and is very sloppy.</td>\n",
       "      <td>She got kicked out in two weeks.</td>\n",
       "    </tr>\n",
       "  </tbody>\n",
       "</table>\n",
       "</div>"
      ],
      "text/plain": [
       "                                           sentence1  \\\n",
       "0  Kelly found her grandmother's pizza recipe in ...   \n",
       "1        Leo wore a toupee and was anxious about it.   \n",
       "2                 Jimmy was a master with his grill.   \n",
       "3                          Tom and Beth were dating.   \n",
       "4  I had a friend that I didn't know well but let...   \n",
       "\n",
       "                                           sentence2  \\\n",
       "0  Kelly reminisced about how much she loved her ...   \n",
       "1             He decided to go out for a short walk.   \n",
       "2  He spent every weekend getting better with his...   \n",
       "3                    Tom wanted to go on a fun date.   \n",
       "4      She paid rent then asked for some of it back.   \n",
       "\n",
       "                                           sentence3  \\\n",
       "0  Kelly decided that she was going to try to mak...   \n",
       "1  It was a very windy day, but he wasn't too con...   \n",
       "2  One day he was offered a TV show about grillin...   \n",
       "3                         Tom suggested ice skating.   \n",
       "4              She drinks my juice and eats my food.   \n",
       "\n",
       "                                           sentence4  \\\n",
       "0  Kelly studied the recipe and gathered everythi...   \n",
       "1  Suddenly, a strong wind came through and took ...   \n",
       "2              Jimmy accepted the job in an instant.   \n",
       "3    His date was excited and they went ice skating.   \n",
       "4     She also makes a huge mess and is very sloppy.   \n",
       "\n",
       "                                           sentence5  \n",
       "0  Kelly successfully made a pizza from her grand...  \n",
       "1  His dog leaped and caught it, and he quickly r...  \n",
       "2  He quit his day job and spent all his time gri...  \n",
       "3  Tom and Beth grew closer during their ice skat...  \n",
       "4                   She got kicked out in two weeks.  "
      ]
     },
     "execution_count": 8,
     "metadata": {},
     "output_type": "execute_result"
    }
   ],
   "source": [
    "train_df.head()"
   ]
  },
  {
   "cell_type": "code",
   "execution_count": 9,
   "metadata": {},
   "outputs": [],
   "source": [
    "train_cols = [\"sentence_{}\".format(i) for i in range(1, 5)] + [\"ending\"]\n",
    "train_df.columns = train_cols"
   ]
  },
  {
   "cell_type": "code",
   "execution_count": 10,
   "metadata": {},
   "outputs": [],
   "source": [
    "train_sentences = train_df[[\"sentence_1\", \"sentence_2\", \"sentence_3\", \"sentence_4\"]].values.tolist()"
   ]
  },
  {
   "cell_type": "code",
   "execution_count": 11,
   "metadata": {},
   "outputs": [
    {
     "data": {
      "text/plain": [
       "[[\"Kelly found her grandmother's pizza recipe in a shoebox of memories.\",\n",
       "  \"Kelly reminisced about how much she loved her grandmother's pizza.\",\n",
       "  'Kelly decided that she was going to try to make pizza.',\n",
       "  'Kelly studied the recipe and gathered everything she needed.'],\n",
       " ['Leo wore a toupee and was anxious about it.',\n",
       "  'He decided to go out for a short walk.',\n",
       "  \"It was a very windy day, but he wasn't too concerned.\",\n",
       "  'Suddenly, a strong wind came through and took his toupee!'],\n",
       " ['Jimmy was a master with his grill.',\n",
       "  'He spent every weekend getting better with his grill.',\n",
       "  'One day he was offered a TV show about grilling on a local channel,',\n",
       "  'Jimmy accepted the job in an instant.'],\n",
       " ['Tom and Beth were dating.',\n",
       "  'Tom wanted to go on a fun date.',\n",
       "  'Tom suggested ice skating.',\n",
       "  'His date was excited and they went ice skating.'],\n",
       " [\"I had a friend that I didn't know well but let her over my house.\",\n",
       "  'She paid rent then asked for some of it back.',\n",
       "  'She drinks my juice and eats my food.',\n",
       "  'She also makes a huge mess and is very sloppy.'],\n",
       " ['Matthew grew up with a dad that pushed him in sports.',\n",
       "  'He thought he would grow up to be an athlete.',\n",
       "  'Once he grew up he realized he wanted to do other things.',\n",
       "  'His dad was very angry.'],\n",
       " ['Tom was driving on a rainy night.',\n",
       "  'The road was slicker than he thought.',\n",
       "  'Tom hit a watery oily patch.',\n",
       "  'He spun out of control and hit a tree.'],\n",
       " ['She had a sudden craving for mangoes.',\n",
       "  'She went to the store looking for some.',\n",
       "  'She found some that were very ripe.',\n",
       "  'The sweet flavor was pungent and satisfying.'],\n",
       " ['Jared liked to fish with his dad every Saturday.',\n",
       "  'He and his dad would go out early so they could eat their catch.',\n",
       "  \"Jared's dad got sick and could no longer go fishing.\",\n",
       "  'Jared still got up early on Saturday to hang out with his dad.'],\n",
       " ['Susie needed models for her catwalk.',\n",
       "  'So she commissioned Rachel.',\n",
       "  'Rachel was thrilled.',\n",
       "  'But the day of the show she tripped.']]"
      ]
     },
     "execution_count": 11,
     "metadata": {},
     "output_type": "execute_result"
    }
   ],
   "source": [
    "train_sentences[:10]"
   ]
  },
  {
   "cell_type": "code",
   "execution_count": 12,
   "metadata": {},
   "outputs": [],
   "source": [
    "train_endings = train_df[\"ending\"].values.tolist()"
   ]
  },
  {
   "cell_type": "code",
   "execution_count": 13,
   "metadata": {},
   "outputs": [
    {
     "data": {
      "text/plain": [
       "[\"Kelly successfully made a pizza from her grandmother's recipe.\",\n",
       " 'His dog leaped and caught it, and he quickly ran home.',\n",
       " 'He quit his day job and spent all his time grilling.',\n",
       " 'Tom and Beth grew closer during their ice skating date.',\n",
       " 'She got kicked out in two weeks.',\n",
       " 'Their relationship got bad and they no longer talked.',\n",
       " 'Tom was paralyzed from the neck down.',\n",
       " 'She ate them for every meal that day.',\n",
       " \"Jared discovered his dad's companionship was most important.\",\n",
       " 'She was so embarrassed.']"
      ]
     },
     "execution_count": 13,
     "metadata": {},
     "output_type": "execute_result"
    }
   ],
   "source": [
    "train_endings[:10]"
   ]
  },
  {
   "cell_type": "code",
   "execution_count": 14,
   "metadata": {},
   "outputs": [],
   "source": [
    "train_ending_labels = [1]*len(train_endings)"
   ]
  },
  {
   "cell_type": "code",
   "execution_count": 17,
   "metadata": {},
   "outputs": [],
   "source": [
    "def sample_random_endings(n_samples, n_stories):\n",
    "    ending_idxs = [np.random.choice(n_stories, size=n_samples, replace=False) for _ in range(n_stories)]\n",
    "    return ending_idxs"
   ]
  },
  {
   "cell_type": "code",
   "execution_count": 24,
   "metadata": {},
   "outputs": [],
   "source": [
    "rand_endings = np.array(sample_random_endings(3, 20000))"
   ]
  },
  {
   "cell_type": "code",
   "execution_count": 25,
   "metadata": {},
   "outputs": [
    {
     "data": {
      "text/plain": [
       "array([[ 8354,  1405, 14905],\n",
       "       [ 2567,  6431, 18410],\n",
       "       [ 4494,  2478, 10553],\n",
       "       [ 6663,  1871, 16630],\n",
       "       [18952, 12394,  9375],\n",
       "       [ 3205, 15125,  1583],\n",
       "       [12694,    31, 18760],\n",
       "       [15602, 11254, 13653],\n",
       "       [13090,  5166, 14626],\n",
       "       [ 8667,  1615,  2830]])"
      ]
     },
     "execution_count": 25,
     "metadata": {},
     "output_type": "execute_result"
    }
   ],
   "source": [
    "rand_endings[:10]"
   ]
  },
  {
   "cell_type": "code",
   "execution_count": 26,
   "metadata": {},
   "outputs": [],
   "source": [
    "train_endings = np.array(train_endings)"
   ]
  },
  {
   "cell_type": "code",
   "execution_count": 27,
   "metadata": {},
   "outputs": [],
   "source": [
    "ending_sentences_sampled = train_endings[rand_endings]"
   ]
  },
  {
   "cell_type": "code",
   "execution_count": 36,
   "metadata": {},
   "outputs": [],
   "source": [
    "ending_sentences_sampled = ending_sentences_sampled.T"
   ]
  },
  {
   "cell_type": "code",
   "execution_count": 38,
   "metadata": {},
   "outputs": [
    {
     "data": {
      "text/plain": [
       "(3, 20000)"
      ]
     },
     "execution_count": 38,
     "metadata": {},
     "output_type": "execute_result"
    }
   ],
   "source": [
    "ending_sentences_sampled.shape"
   ]
  },
  {
   "cell_type": "code",
   "execution_count": 23,
   "metadata": {},
   "outputs": [
    {
     "data": {
      "text/plain": [
       "array([\"Kelly successfully made a pizza from her grandmother's recipe.\",\n",
       "       'His dog leaped and caught it, and he quickly ran home.',\n",
       "       'He quit his day job and spent all his time grilling.', ...,\n",
       "       'At the end of the day, my mom gave me the money.',\n",
       "       'James took a long time getting there.',\n",
       "       'When she got her pc later she did not know how to use it.'],\n",
       "      dtype='<U93')"
      ]
     },
     "execution_count": 23,
     "metadata": {},
     "output_type": "execute_result"
    }
   ],
   "source": [
    "np.array(train_endings)"
   ]
  },
  {
   "cell_type": "code",
   "execution_count": 31,
   "metadata": {},
   "outputs": [],
   "source": [
    "train_augment = np.array([train_sentences[:20000]]*3)"
   ]
  },
  {
   "cell_type": "code",
   "execution_count": 33,
   "metadata": {},
   "outputs": [
    {
     "data": {
      "text/plain": [
       "(3, 20000, 4)"
      ]
     },
     "execution_count": 33,
     "metadata": {},
     "output_type": "execute_result"
    }
   ],
   "source": [
    "train_augment.shape"
   ]
  },
  {
   "cell_type": "code",
   "execution_count": 34,
   "metadata": {},
   "outputs": [
    {
     "data": {
      "text/plain": [
       "(88161, 4)"
      ]
     },
     "execution_count": 34,
     "metadata": {},
     "output_type": "execute_result"
    }
   ],
   "source": [
    "train_sentences = np.array(train_sentences)\n",
    "train_sentences.shape"
   ]
  },
  {
   "cell_type": "code",
   "execution_count": 42,
   "metadata": {},
   "outputs": [],
   "source": [
    "train_augment_flatten = train_augment.reshape(-1, 4)\n",
    "endings_augment_flatten = ending_sentences_sampled.flatten()"
   ]
  },
  {
   "cell_type": "code",
   "execution_count": 43,
   "metadata": {},
   "outputs": [
    {
     "data": {
      "text/plain": [
       "(60000, 4)"
      ]
     },
     "execution_count": 43,
     "metadata": {},
     "output_type": "execute_result"
    }
   ],
   "source": [
    "train_augment_flatten.shape"
   ]
  },
  {
   "cell_type": "code",
   "execution_count": 44,
   "metadata": {},
   "outputs": [
    {
     "data": {
      "text/plain": [
       "(60000,)"
      ]
     },
     "execution_count": 44,
     "metadata": {},
     "output_type": "execute_result"
    }
   ],
   "source": [
    "endings_augment_flatten.shape"
   ]
  },
  {
   "cell_type": "code",
   "execution_count": 45,
   "metadata": {},
   "outputs": [
    {
     "data": {
      "text/plain": [
       "(88161, 4)"
      ]
     },
     "execution_count": 45,
     "metadata": {},
     "output_type": "execute_result"
    }
   ],
   "source": [
    "train_sentences.shape"
   ]
  },
  {
   "cell_type": "code",
   "execution_count": 49,
   "metadata": {},
   "outputs": [],
   "source": [
    "train_new = np.concatenate([train_sentences, train_augment_flatten], axis=0)"
   ]
  },
  {
   "cell_type": "code",
   "execution_count": 50,
   "metadata": {},
   "outputs": [
    {
     "data": {
      "text/plain": [
       "(148161, 4)"
      ]
     },
     "execution_count": 50,
     "metadata": {},
     "output_type": "execute_result"
    }
   ],
   "source": [
    "train_new.shape"
   ]
  },
  {
   "cell_type": "code",
   "execution_count": 51,
   "metadata": {},
   "outputs": [],
   "source": [
    "train_new_list = train_new.tolist()"
   ]
  },
  {
   "cell_type": "code",
   "execution_count": 52,
   "metadata": {},
   "outputs": [
    {
     "data": {
      "text/plain": [
       "[[\"Kelly found her grandmother's pizza recipe in a shoebox of memories.\",\n",
       "  \"Kelly reminisced about how much she loved her grandmother's pizza.\",\n",
       "  'Kelly decided that she was going to try to make pizza.',\n",
       "  'Kelly studied the recipe and gathered everything she needed.'],\n",
       " ['Leo wore a toupee and was anxious about it.',\n",
       "  'He decided to go out for a short walk.',\n",
       "  \"It was a very windy day, but he wasn't too concerned.\",\n",
       "  'Suddenly, a strong wind came through and took his toupee!'],\n",
       " ['Jimmy was a master with his grill.',\n",
       "  'He spent every weekend getting better with his grill.',\n",
       "  'One day he was offered a TV show about grilling on a local channel,',\n",
       "  'Jimmy accepted the job in an instant.'],\n",
       " ['Tom and Beth were dating.',\n",
       "  'Tom wanted to go on a fun date.',\n",
       "  'Tom suggested ice skating.',\n",
       "  'His date was excited and they went ice skating.'],\n",
       " [\"I had a friend that I didn't know well but let her over my house.\",\n",
       "  'She paid rent then asked for some of it back.',\n",
       "  'She drinks my juice and eats my food.',\n",
       "  'She also makes a huge mess and is very sloppy.'],\n",
       " ['Matthew grew up with a dad that pushed him in sports.',\n",
       "  'He thought he would grow up to be an athlete.',\n",
       "  'Once he grew up he realized he wanted to do other things.',\n",
       "  'His dad was very angry.'],\n",
       " ['Tom was driving on a rainy night.',\n",
       "  'The road was slicker than he thought.',\n",
       "  'Tom hit a watery oily patch.',\n",
       "  'He spun out of control and hit a tree.'],\n",
       " ['She had a sudden craving for mangoes.',\n",
       "  'She went to the store looking for some.',\n",
       "  'She found some that were very ripe.',\n",
       "  'The sweet flavor was pungent and satisfying.'],\n",
       " ['Jared liked to fish with his dad every Saturday.',\n",
       "  'He and his dad would go out early so they could eat their catch.',\n",
       "  \"Jared's dad got sick and could no longer go fishing.\",\n",
       "  'Jared still got up early on Saturday to hang out with his dad.'],\n",
       " ['Susie needed models for her catwalk.',\n",
       "  'So she commissioned Rachel.',\n",
       "  'Rachel was thrilled.',\n",
       "  'But the day of the show she tripped.']]"
      ]
     },
     "execution_count": 52,
     "metadata": {},
     "output_type": "execute_result"
    }
   ],
   "source": [
    "train_new_list[:10]"
   ]
  },
  {
   "cell_type": "code",
   "execution_count": 73,
   "metadata": {},
   "outputs": [],
   "source": [
    "from typing import List, Dict, Tuple\n",
    "\n",
    "class Dataset:\n",
    "    train_file = \"stories.train.csv\"\n",
    "    eval_file = \"stories.eval.csv\"\n",
    "    test_file = \"stories.test.csv\"\n",
    "\n",
    "    def __init__(self,\n",
    "                 input_dir: str = None,\n",
    "                 preprocessors: List = None,\n",
    "                 format_df: bool = True) -> None:\n",
    "\n",
    "        self.input_dir = input_dir\n",
    "        self.read_train_and_eval(format_df=format_df)\n",
    "        #self.process_train()\n",
    "        #self.process_eval()\n",
    "        if preprocessors is not None:\n",
    "            self.preprocess_data()\n",
    "\n",
    "    def read_train_and_eval(self, format_df=True) -> None:\n",
    "        \"\"\"Reads the train and eval stories.\"\"\"\n",
    "        #logger.info(\"Reading train and eval stories from {}\".format(\n",
    "        #    self.input_dir))\n",
    "        self.train_df = pd.read_csv(os.path.join(self.input_dir, self.train_file))\n",
    "        self.eval_df = pd.read_csv(os.path.join(self.input_dir, self.eval_file))\n",
    "\n",
    "    def _process_train(self, n_random=0, n_backward=0):\n",
    "        \"\"\"Processes training set and augments it with negative endings.\"\"\"\n",
    "        self.train_df.drop([\"storyid\", \"storytitle\"], axis=1, inplace=True)\n",
    "        train_cols = [\"sentence_{}\".format(i) for i in range(1, 5)] + [\"ending\"]\n",
    "        self.train_df.columns = train_cols\n",
    "\n",
    "        self.train_sentences = self.train_df[train_cols[:-1]].values\n",
    "        self.train_endings = self.train_df[\"ending\"].values\n",
    "        del self.train_df\n",
    "        self.n_train_stories = len(self.train_endings)\n",
    "\n",
    "        if n_random:\n",
    "            random_endings = self.sample_random_endings(n_samples=n_random)\n",
    "            train_augment = np.array([self.train_sentences[:20000]]*n_random)\n",
    "            train_augment = train_augment.reshape(-1, 4)\n",
    "            random_endings = random_endings.flatten()\n",
    "\n",
    "            self.train_sentences = np.vstack([self.train_sentences, train_augment])\n",
    "            self.train_endings = np.concatenate([self.train_endings, random_endings])\n",
    "            assert len(self.train_sentences) == len(self.train_endings)\n",
    "\n",
    "        if n_backward:\n",
    "            pass\n",
    "\n",
    "\n",
    "    def _process_eval(self):\n",
    "        correct_ending_idxs = self.eval_df[\"AnswerRightEnding\"] - 1\n",
    "        self.eval_df = self.eval_df.drop([\"InputStoryid\", \"AnswerRightEnding\"], axis=1, inplace=True)\n",
    "        eval_cols = [\"sentence_{}\".format(i) for i in range(1, 5)] + [\"ending1\", \"ending2\"]\n",
    "        self.eval_df.columns = eval_cols\n",
    "\n",
    "        self.eval_sentences = self.eval_df[eval_cols[:-2]].values.tolist()\n",
    "        self.eval_endings = self.eval_df[eval_cols[-2:]].values.tolist()\n",
    "        del self.eval_df\n",
    "\n",
    "        assert len(self.eval_sentences) == len(self.endings), \"All sentences should have endings.\"\n",
    "\n",
    "    def convert_to_tensor(self):\n",
    "        pass\n",
    "\n",
    "    def sample_random_endings(self, n_samples=1):\n",
    "        ending_idxs = [np.random.choice(20000,\n",
    "                      size=n_samples, replace=False) for _ in range(20000)]\n",
    "        ending_idxs = np.asarray(ending_idxs)\n",
    "        return self.train_endings[ending_idxs]\n",
    "\n",
    "    def encode(self):\n",
    "        self.encoded_train = self.train_df.applymap(self.encoder.encode_sentences)\n",
    "        self.encoded_eval = self.eval_df.applymap(self.encoder.encode_sentences)\n"
   ]
  },
  {
   "cell_type": "code",
   "execution_count": 74,
   "metadata": {},
   "outputs": [],
   "source": [
    "ds = Dataset(input_dir=\"../data/\")"
   ]
  },
  {
   "cell_type": "code",
   "execution_count": 75,
   "metadata": {},
   "outputs": [
    {
     "name": "stdout",
     "output_type": "stream",
     "text": [
      "(60000, 4)\n",
      "(88161, 4)\n"
     ]
    }
   ],
   "source": [
    "ds._process_train(n_random=3)"
   ]
  },
  {
   "cell_type": "code",
   "execution_count": null,
   "metadata": {},
   "outputs": [],
   "source": []
  }
 ],
 "metadata": {
  "kernelspec": {
   "display_name": "Python 3",
   "language": "python",
   "name": "python3"
  },
  "language_info": {
   "codemirror_mode": {
    "name": "ipython",
    "version": 3
   },
   "file_extension": ".py",
   "mimetype": "text/x-python",
   "name": "python",
   "nbconvert_exporter": "python",
   "pygments_lexer": "ipython3",
   "version": "3.6.8"
  }
 },
 "nbformat": 4,
 "nbformat_minor": 2
}
